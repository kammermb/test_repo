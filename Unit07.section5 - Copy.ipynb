{
 "cells": [
  {
   "cell_type": "markdown",
   "id": "f3ccbdbe",
   "metadata": {
    "slideshow": {
     "slide_type": "slide"
    }
   },
   "source": [
    "# Lecture 7\n",
    "\n",
    "# Section 5: Using a professional cloud deployed database such as MS Azure SQL Server\n",
    "This section has advanced (and optional) content. It will require quite a number of steps and configurations and is rather involving."
   ]
  },
  {
   "cell_type": "markdown",
   "id": "4b3a9568",
   "metadata": {},
   "source": [
    "## Preparations for using an MS Azure SQL Database\n",
    "\n",
    "- you need to register a free Azure SQL database [here](https://aka.ms/freedb)\n",
    "\n",
    "On a Mac computer\n",
    "- specifically you may need to install the ODBC driver, see [here](https://learn.microsoft.com/en-us/sql/connect/odbc/linux-mac/install-microsoft-odbc-driver-sql-server-macos?view=sql-server-ver16) \n",
    "- see also the trouble shooting section on that page, this has been necessary for me\n",
    "\n",
    "> On an Intel Mac I needed to create symbolic links to the driver via \n",
    ">```console\n",
    ">sudo ln -s /usr/local/etc/odbcinst.ini /etc/odbcinst.ini\n",
    ">sudo ln -s /usr/local/etc/odbc.ini /etc/odbc.ini\n",
    ">```\n",
    "\n",
    "> This **does not work on an ARM Mac** (M1, M2, etc. processors). Here I needed to create symbolic links to the driver at other places in the filesystem via \n",
    ">```console\n",
    ">sudo ln -s /opt/homebrew/etc/odbcinst.ini /etc/odbcinst.ini\n",
    ">sudo ln -s /opt/homebrew/etc/odbc.ini /etc/odbc.ini\n",
    ">```\n",
    "\n",
    "On a Windows computer\n",
    "- I could not try it on a Windows machine\n",
    "- It may work out of the box\n",
    "- If not start with downloading and installing the ODBC driver [here](https://learn.microsoft.com/en-us/sql/connect/odbc/download-odbc-driver-for-sql-server?view=sql-server-ver16)\n",
    "\n",
    "## For using this and other databases in Python some libraries are useful\n",
    "- you may need to install _pyodbc_ with `pip install pyodbc` \n",
    "- and _sqlalchemy_ with `pip install sqlalchemy` \n",
    "- the cell below does this for you"
   ]
  },
  {
   "cell_type": "code",
   "execution_count": null,
   "id": "1e434e4c",
   "metadata": {},
   "outputs": [],
   "source": [
    "# potentially you need first to install a number of libraries\n",
    " \n",
    "#these libraries help to connect to databases\n",
    "%pip install -q pyodbc\n",
    "%pip install -q sqlalchemy\n"
   ]
  },
  {
   "cell_type": "markdown",
   "id": "a1c1a24f",
   "metadata": {},
   "source": [
    "### Dealing with passwords in python code\n",
    "\n",
    "Here is an interesting read on [how to deal with passwords in python code](https://stackoverflow.com/questions/7014953/i-need-to-securely-store-a-username-and-password-in-python-what-are-my-options)\n",
    "\n",
    "And here are mechanisms on [how to deal with such issues in (public) streamlit apps](https://docs.streamlit.io/library/advanced-features/secrets-management)"
   ]
  },
  {
   "cell_type": "code",
   "execution_count": null,
   "id": "efb0d420",
   "metadata": {},
   "outputs": [],
   "source": [
    "# this imports my password file - I did not share this file with you but you've got the template\n",
    "import passwd"
   ]
  },
  {
   "cell_type": "code",
   "execution_count": null,
   "id": "9dad399a",
   "metadata": {},
   "outputs": [],
   "source": [
    "import pyodbc \n",
    "import pandas as pd\n",
    "\n",
    "server = 'fcsdb.database.windows.net'\n",
    "database = 'fcsdb'\n",
    "username = 'fcsdb'\n",
    "password = passwd.db_password   # here it reads **my** password from the file, \n",
    "                                # this will not work fou you, you need your own password\n",
    "                                # from your own password file (see my template)\n",
    "                                # and your own MS Azure account\n",
    "driver= '{ODBC Driver 18 for SQL Server}'"
   ]
  },
  {
   "cell_type": "markdown",
   "id": "ea30e925",
   "metadata": {},
   "source": [
    "The followign code should work without errors if you can connect to your Azure SQL database - even if the database is empty. If this cell does not work, try to fix the errors before you continue. Possible errors:\n",
    "- you have not installed and/or linked the ODBC driver correctly\n",
    "- you have not adjusted the Azure firewall rules accordingly (check in the Azure database portal)\n",
    "- you have not entered the correct SQL credentials for your database\n",
    "- jou have no database"
   ]
  },
  {
   "cell_type": "code",
   "execution_count": null,
   "id": "5118b35d",
   "metadata": {},
   "outputs": [],
   "source": [
    "with pyodbc.connect('DRIVER='+driver+';SERVER=tcp:'+server+';PORT=1433;DATABASE='+database+';UID='+username+';PWD='+ password) as conn:\n",
    "    with conn.cursor() as cursor:\n",
    "        cursor.execute(\"SELECT TOP 3 name, collation_name FROM sys.databases\")\n",
    "        row = cursor.fetchone()\n",
    "        while row:\n",
    "            print (str(row[0]) + \" \" + str(row[1]))\n",
    "            row = cursor.fetchone()"
   ]
  },
  {
   "cell_type": "markdown",
   "id": "71be2791",
   "metadata": {},
   "source": [
    "You can adapt the code above to run whatever SQL query on your database."
   ]
  },
  {
   "cell_type": "markdown",
   "id": "8c9004bb",
   "metadata": {},
   "source": [
    "## Using the `Chinook` database on Azure SQL server\n",
    "- first you need an _SQL Server version_ of the `chinook` database, you find all kinds of versions [here](https://github.com/lerocha/chinook-database) and the SQL Server version [here](https://github.com/lerocha/chinook-database/blob/master/ChinookDatabase/DataSources/Chinook_SqlServer.sql)\n",
    "- for importing the `chinook` database to Azure SQL server database I installed _Azure Data Studio_ onto my local machine, you find it [here](https://aka.ms/azuredatastudio) \n",
    "- start and connect _Azure Data Studio_ with your Azure database\n",
    "- run the `chinook` SQL script downloaded in the first step (there may be some errors, **it may be best to remove the `Drop database if it exists` and `Create database` sections right at the start of the sql script** because you want to create tables and tuples directly into your existing Azure database) "
   ]
  },
  {
   "cell_type": "markdown",
   "id": "3237c573",
   "metadata": {},
   "source": [
    "### Setting up the database connection\n",
    "Now we use a similar but a bit easier approach to the above to query our database.\n",
    "First we need to import the quitered packages and setup our database settings. Again, the seetings here will not work for you, you need to put your credentials in here. "
   ]
  },
  {
   "cell_type": "code",
   "execution_count": null,
   "id": "eed882d2",
   "metadata": {},
   "outputs": [],
   "source": [
    "import urllib\n",
    "from sqlalchemy import create_engine\n",
    "\n",
    "# Adjust the database settings to your Azure database \n",
    "server = 'fcsdb.database.windows.net'\n",
    "database = 'fcsdb'\n",
    "username = 'fcsdb'\n",
    "password = passwd.db_password\n",
    "driver= '{ODBC Driver 18 for SQL Server}'"
   ]
  },
  {
   "cell_type": "markdown",
   "id": "e6bfb489",
   "metadata": {},
   "source": [
    "### Connecting to the database\n",
    "Here we get a `DB` object, similar to the one from the SQLite database before"
   ]
  },
  {
   "cell_type": "code",
   "execution_count": null,
   "id": "27a355a7",
   "metadata": {},
   "outputs": [],
   "source": [
    "conn = f\"\"\"Driver={driver};Server=tcp:{server},1433;Database={database};\n",
    "Uid={username};Pwd={password};Encrypt=yes;TrustServerCertificate=no;Connection Timeout=30;\"\"\"\n",
    "\n",
    "params = urllib.parse.quote_plus(conn)\n",
    "conn_str = 'mssql+pyodbc:///?autocommit=true&odbc_connect={}'.format(params)\n",
    "DB = create_engine(conn_str, echo=False)"
   ]
  },
  {
   "cell_type": "markdown",
   "id": "65fc67b3",
   "metadata": {},
   "source": [
    "### Querying the database\n",
    "In theory, we now can use exactly the same code for querying the Azure database as we used for the SQLite database. Unfortunately, the imported version uses (or whatever reason) slightly different table names, e.g., `Album` and `Artist` onstead of `Albums` and `Artists`. We could fix that but I did not do it here.\n",
    "\n",
    "To get an overview on those table names we first query `sys.tables` for all the table names and the further on use those slightly different names in our original SQLite SQL queries. Here we go:"
   ]
  },
  {
   "cell_type": "code",
   "execution_count": null,
   "id": "b91c796f",
   "metadata": {},
   "outputs": [],
   "source": [
    "# getting the table names\n",
    "pd.read_sql('SELECT name FROM sys.tables', DB) "
   ]
  },
  {
   "cell_type": "code",
   "execution_count": null,
   "id": "cb816316",
   "metadata": {},
   "outputs": [],
   "source": [
    "# getting the number of customers\n",
    "pd.read_sql('SELECT count(*) FROM Customer', DB) "
   ]
  },
  {
   "cell_type": "code",
   "execution_count": null,
   "id": "f804c77c",
   "metadata": {},
   "outputs": [],
   "source": [
    "# getting all employees\n",
    "pd.read_sql('SELECT * FROM employee', DB) "
   ]
  },
  {
   "cell_type": "code",
   "execution_count": null,
   "id": "7b2a9322",
   "metadata": {},
   "outputs": [],
   "source": [
    "# Your code goes here:\n"
   ]
  },
  {
   "cell_type": "markdown",
   "id": "38fb4a2b",
   "metadata": {},
   "source": [
    "### Using an Azure SQL server database in `streamlit`\n",
    "You may use your database in streamlit as is, or you may also use some even simplers ways to interact with an SQL server database (and many other data sources) with `streamlit` means. The latter me be helpful if you want to deploy your app to the streamlit cloud.\n",
    "\n",
    "Please find the documentation [here](https://docs.streamlit.io/knowledge-base/tutorials/databases/mssql)\n",
    "\n",
    "When deploying your app with user input and dynamically created SQL queries to the internet, be aware of the threat of **sql injections**. [Here](https://realpython.com/prevent-python-sql-injection/) and in many other places you can read what an sql injection is and how to prevent them. This is an important but advanced topic.\n",
    "\n",
    "In the context of using databases in `streamlit` but also for other approaches of **making data persistent beyond a run of a `streamlit` program or even beyond a `streamlit` session**, have a look at the advanced concepts of **[statefulness](https://docs.streamlit.io/library/advanced-features/session-state)** and **[caching](https://docs.streamlit.io/library/advanced-features/caching)**."
   ]
  },
  {
   "cell_type": "markdown",
   "id": "8d6414a9",
   "metadata": {},
   "source": [
    "__Happy Coding!__"
   ]
  }
 ],
 "metadata": {
  "kernelspec": {
   "display_name": "Python 3 (ipykernel)",
   "language": "python",
   "name": "python3"
  },
  "language_info": {
   "codemirror_mode": {
    "name": "ipython",
    "version": 3
   },
   "file_extension": ".py",
   "mimetype": "text/x-python",
   "name": "python",
   "nbconvert_exporter": "python",
   "pygments_lexer": "ipython3",
   "version": "3.10.13"
  }
 },
 "nbformat": 4,
 "nbformat_minor": 5
}
